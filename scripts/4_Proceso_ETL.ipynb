{
 "cells": [
  {
   "cell_type": "code",
   "execution_count": 5,
   "id": "447fc657",
   "metadata": {},
   "outputs": [
    {
     "name": "stdout",
     "output_type": "stream",
     "text": [
      "🔍 Valores nulos antes de la limpieza:\n",
      "Paciente_ID        0\n",
      "Nombre           108\n",
      "Apellido         118\n",
      "Edad             668\n",
      "Sexo             492\n",
      "Diagnostico      207\n",
      "Distrito         225\n",
      "Fecha_Ingreso      0\n",
      "dtype: int64\n",
      "\n",
      "✅ Después de la limpieza:\n",
      "Paciente_ID      0\n",
      "Nombre           0\n",
      "Apellido         0\n",
      "Edad             0\n",
      "Sexo             0\n",
      "Diagnostico      0\n",
      "Distrito         0\n",
      "Fecha_Ingreso    0\n",
      "dtype: int64\n",
      "\n",
      "📁 Archivo limpio guardado en: c:\\Users\\Xiomara\\Documents\\SaludDigitalB_E1\\scripts\\..\\database\\pacientes_clean.csv\n"
     ]
    },
    {
     "name": "stderr",
     "output_type": "stream",
     "text": [
      "C:\\Users\\Xiomara\\AppData\\Local\\Temp\\ipykernel_19280\\787821465.py:39: UserWarning: Parsing dates in %d/%m/%Y format when dayfirst=False (the default) was specified. Pass `dayfirst=True` or specify a format to silence this warning.\n",
      "  df[col] = pd.to_datetime(df[col], errors=\"coerce\").dt.strftime(\"%Y-%m-%d\")\n"
     ]
    }
   ],
   "source": [
    "import pandas as pd\n",
    "from pathlib import Path\n",
    "\n",
    "# 1️⃣ Definir rutas\n",
    "data_path = Path.cwd() / \"../data\"\n",
    "database_path = Path.cwd() / \"../database\"\n",
    "database_path.mkdir(parents=True, exist_ok=True)\n",
    "\n",
    "input_file = data_path / \"pacientes.csv\"\n",
    "output_file = database_path / \"pacientes_clean.csv\"\n",
    "\n",
    "# 2️⃣ Leer el archivo CSV original\n",
    "df = pd.read_csv(input_file)\n",
    "\n",
    "# 3️⃣ Mostrar cantidad de valores nulos antes\n",
    "print(\"🔍 Valores nulos antes de la limpieza:\")\n",
    "print(df.isnull().sum())\n",
    "\n",
    "# 4️⃣ Reemplazar valores nulos o vacíos en columnas clave\n",
    "columnas_texto = [\"Nombre\", \"Apellido\", \"Sexo\", \"Diagnostico\", \"Distrito\"]\n",
    "\n",
    "for col in columnas_texto:\n",
    "    if col in df.columns:\n",
    "        df[col] = df[col].fillna(\"NO ESPECIFICADO\").replace([\"NA\", \"\"], \"NO ESPECIFICADO\")\n",
    "\n",
    "# 5️⃣ Limpiar y capitalizar textos (por ejemplo: \"maria\" → \"Maria\")\n",
    "for col in columnas_texto:\n",
    "    if col in df.columns:\n",
    "        df[col] = df[col].astype(str).str.strip().str.title()\n",
    "\n",
    "# 6️⃣ Validar y limpiar edades\n",
    "if \"Edad\" in df.columns:\n",
    "    df[\"Edad\"] = pd.to_numeric(df[\"Edad\"], errors=\"coerce\")  # convierte a número\n",
    "    df[\"Edad\"] = df[\"Edad\"].fillna(df[\"Edad\"].median())       # reemplaza nulos con la mediana\n",
    "\n",
    "# 7️⃣ Formatear fechas correctamente\n",
    "for col in df.columns:\n",
    "    if \"fecha\" in col.lower():\n",
    "        df[col] = pd.to_datetime(df[col], errors=\"coerce\").dt.strftime(\"%Y-%m-%d\")\n",
    "\n",
    "# 8️⃣ Eliminar filas duplicadas o completamente vacías\n",
    "df.drop_duplicates(inplace=True)\n",
    "df.dropna(how=\"all\", inplace=True)\n",
    "\n",
    "# 9️⃣ Mostrar resumen después de la limpieza\n",
    "print(\"\\n✅ Después de la limpieza:\")\n",
    "print(df.isnull().sum())\n",
    "\n",
    "# 10️⃣ Guardar el nuevo archivo limpio\n",
    "df.to_csv(output_file, index=False, encoding=\"utf-8\")\n",
    "print(f\"\\n📁 Archivo limpio guardado en: {output_file}\")\n"
   ]
  }
 ],
 "metadata": {
  "kernelspec": {
   "display_name": "myenv",
   "language": "python",
   "name": "python3"
  },
  "language_info": {
   "codemirror_mode": {
    "name": "ipython",
    "version": 3
   },
   "file_extension": ".py",
   "mimetype": "text/x-python",
   "name": "python",
   "nbconvert_exporter": "python",
   "pygments_lexer": "ipython3",
   "version": "3.13.5"
  }
 },
 "nbformat": 4,
 "nbformat_minor": 5
}
