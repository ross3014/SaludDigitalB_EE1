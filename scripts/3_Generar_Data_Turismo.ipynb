{
 "cells": [
  {
   "cell_type": "code",
   "execution_count": null,
   "id": "819af26a",
   "metadata": {},
   "outputs": [],
   "source": [
    "from pathlib import Path\n",
    "\n",
    "print(\"Pathlib funciona correctamente ✅\")\n",
    "\n",
    "import csv\n",
    "import random\n",
    "from datetime import datetime, timedelta\n",
    "\n",
    "# 1️⃣ Crear carpeta \"data\" si no existe (en la raíz del proyecto)\n",
    "data_path = Path(\"data\")\n",
    "data_path.mkdir(parents=True, exist_ok=True)\n",
    "\n",
    "# 2️⃣ Definir archivo CSV\n",
    "csv_file = data_path / \"pacientes.csv\"\n",
    "\n",
    "# 3️⃣ Listas base de datos simulados\n",
    "nombres = [\"Juan\", \"María\", \"Pedro\", \"Lucía\", \"Ana\", \"Luis\", \"José\", \"Xiomara\", \"Andrés\", \"Paola\", \"NA\"]\n",
    "apellidos = [\"Pérez\", \"García\", \"Rojas\", \"Fernández\", \"Vargas\", \"Torres\", \"Gómez\", \"Ramírez\", \"NA\"]\n",
    "sexos = [\"M\", \"F\", \"NA\", \"\"]\n",
    "diagnosticos = [\"Gripe\", \"Covid-19\", \"Asma\", \"Diabetes\", \"Hipertensión\", \"Migraña\", \"Alergia\", \"NA\", \"\"]\n",
    "distritos = [\"San Isidro\", \"Miraflores\", \"Surco\", \"La Molina\", \"Lince\", \"Callao\", \"Cajamarca\", \"NA\", \"\"]\n",
    "\n",
    "# 4️⃣ Función para generar fecha aleatoria\n",
    "def generar_fecha():\n",
    "    \"\"\"Genera una fecha de ingreso aleatoria entre 2015 y 2025\"\"\"\n",
    "    inicio = datetime(2015, 1, 1)\n",
    "    fin = datetime(2025, 1, 1)\n",
    "    delta = fin - inicio\n",
    "    fecha_random = inicio + timedelta(days=random.randint(0, delta.days))\n",
    "    return fecha_random.strftime(\"%d/%m/%Y\")\n",
    "\n",
    "# 5️⃣ Crear 3000 registros simulados con campos nulos/NA\n",
    "registros = []\n",
    "for i in range(1, 1001):\n",
    "    paciente_id = f\"P{str(i).zfill(5)}\"\n",
    "    nombre = random.choice(nombres)\n",
    "    apellido = random.choice(apellidos)\n",
    "    edad = random.choice([random.randint(0, 100), \"\", \"NA\"])  # Algunos sin edad\n",
    "    sexo = random.choice(sexos)\n",
    "    diagnostico = random.choice(diagnosticos)\n",
    "    distrito = random.choice(distritos)\n",
    "    fecha_ingreso = generar_fecha()\n",
    "    registros.append([paciente_id, nombre, apellido, edad, sexo, diagnostico, distrito, fecha_ingreso])\n",
    "\n",
    "# 6️⃣ Escribir en el archivo CSV\n",
    "with open(csv_file, mode=\"w\", newline=\"\", encoding=\"utf-8\") as file:\n",
    "    writer = csv.writer(file)\n",
    "    writer.writerow([\"Paciente_ID\", \"Nombre\", \"Apellido\", \"Edad\", \"Sexo\", \"Diagnostico\", \"Distrito\", \"Fecha_Ingreso\"])\n",
    "    writer.writerows(registros)\n",
    "\n",
    "print(f\"✅ Archivo generado correctamente en: {csv_file}\")\n",
    "print(f\"📊 Total de registros: {len(registros)}\")\n"
   ]
  }
 ],
 "metadata": {
  "kernelspec": {
   "display_name": "myenv",
   "language": "python",
   "name": "python3"
  },
  "language_info": {
   "codemirror_mode": {
    "name": "ipython",
    "version": 3
   },
   "file_extension": ".py",
   "mimetype": "text/x-python",
   "name": "python",
   "nbconvert_exporter": "python",
   "pygments_lexer": "ipython3",
   "version": "3.13.5"
  }
 },
 "nbformat": 4,
 "nbformat_minor": 5
}
