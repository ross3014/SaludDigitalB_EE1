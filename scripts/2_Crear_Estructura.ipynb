{
 "cells": [
  {
   "cell_type": "code",
   "execution_count": 1,
   "id": "40365ca3",
   "metadata": {},
   "outputs": [
    {
     "name": "stdout",
     "output_type": "stream",
     "text": [
      "✅ Archivo 'base.csv' creado correctamente en c:\\Users\\Xiomara\\Documents\\SaludDigitalB_E1\\scripts\\data\n"
     ]
    }
   ],
   "source": [
    "from pathlib import Path\n",
    "\n",
    "# 📁 Crear carpeta 'data' en el directorio actual\n",
    "data_path = Path.cwd() / \"data\"\n",
    "data_path.mkdir(parents=True, exist_ok=True)\n",
    "\n",
    "# 📄 Crear archivo base CSV dentro de 'data'\n",
    "archivo_csv = data_path / \"base.csv\"\n",
    "if not archivo_csv.exists():\n",
    "    with open(archivo_csv, \"w\", encoding=\"utf-8\") as f:\n",
    "        f.write(\"Num_Cta,Cli_Codigo,TipoCuenta,Sucursal,FechaApertura,Saldo\\n\")\n",
    "    print(f\"✅ Archivo '{archivo_csv.name}' creado correctamente en {data_path}\")\n",
    "else:\n",
    "    print(f\"ℹ️ El archivo '{archivo_csv.name}' ya existe en {data_path}\")\n"
   ]
  }
 ],
 "metadata": {
  "kernelspec": {
   "display_name": "myenv",
   "language": "python",
   "name": "python3"
  },
  "language_info": {
   "codemirror_mode": {
    "name": "ipython",
    "version": 3
   },
   "file_extension": ".py",
   "mimetype": "text/x-python",
   "name": "python",
   "nbconvert_exporter": "python",
   "pygments_lexer": "ipython3",
   "version": "3.13.5"
  }
 },
 "nbformat": 4,
 "nbformat_minor": 5
}
