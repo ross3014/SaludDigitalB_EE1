{
 "cells": [
  {
   "cell_type": "code",
   "execution_count": 1,
   "id": "6bf75ed6",
   "metadata": {},
   "outputs": [
    {
     "name": "stdout",
     "output_type": "stream",
     "text": [
      "✅ Carpeta 'data' lista en c:\\Users\\Xiomara\\Documents\\SaludDigitalB_E1\\scripts\\data\n",
      "✅ Carpeta 'database' lista en c:\\Users\\Xiomara\\Documents\\SaludDigitalB_E1\\scripts\\database\n",
      "✅ Carpeta 'reports' lista en c:\\Users\\Xiomara\\Documents\\SaludDigitalB_E1\\scripts\\reports\n",
      "✅ Carpeta 'ci' lista en c:\\Users\\Xiomara\\Documents\\SaludDigitalB_E1\\scripts\\ci\n",
      "✅ Carpeta 'git' lista en c:\\Users\\Xiomara\\Documents\\SaludDigitalB_E1\\scripts\\git\n"
     ]
    }
   ],
   "source": [
    "from pathlib import Path\n",
    "\n",
    "# Carpetas que queremos crear\n",
    "carpetas = [\"data\", \"database\", \"reports\", \"ci\", \"git\"]\n",
    "\n",
    "for carpeta in carpetas:\n",
    "    ruta = Path.cwd() / carpeta\n",
    "    ruta.mkdir(parents=True, exist_ok=True)\n",
    "    print(f\"✅ Carpeta '{carpeta}' lista en {ruta}\")\n"
   ]
  }
 ],
 "metadata": {
  "kernelspec": {
   "display_name": "myenv",
   "language": "python",
   "name": "python3"
  },
  "language_info": {
   "codemirror_mode": {
    "name": "ipython",
    "version": 3
   },
   "file_extension": ".py",
   "mimetype": "text/x-python",
   "name": "python",
   "nbconvert_exporter": "python",
   "pygments_lexer": "ipython3",
   "version": "3.13.5"
  }
 },
 "nbformat": 4,
 "nbformat_minor": 5
}
